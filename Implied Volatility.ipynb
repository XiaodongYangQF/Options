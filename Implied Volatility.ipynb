{
 "cells": [
  {
   "cell_type": "markdown",
   "id": "a740d76b",
   "metadata": {},
   "source": [
    "**<center><font face=\"Times New Roman\" size=6> Implied Volatility <center>**"
   ]
  },
  {
   "cell_type": "markdown",
   "id": "62a288d3",
   "metadata": {
    "toc": true
   },
   "source": [
    "<h1>Table of Contents<span class=\"tocSkip\"></span></h1>\n",
    "<div class=\"toc\"><ul class=\"toc-item\"><li><span><a href=\"#Newton-Method\" data-toc-modified-id=\"Newton-Method-1\"><span class=\"toc-item-num\">1&nbsp;&nbsp;</span>Newton Method</a></span></li><li><span><a href=\"#Bisection-Method\" data-toc-modified-id=\"Bisection-Method-2\"><span class=\"toc-item-num\">2&nbsp;&nbsp;</span>Bisection Method</a></span></li><li><span><a href=\"#SPY-Option\" data-toc-modified-id=\"SPY-Option-3\"><span class=\"toc-item-num\">3&nbsp;&nbsp;</span>SPY Option</a></span></li></ul></div>"
   ]
  },
  {
   "cell_type": "code",
   "execution_count": 1,
   "id": "656630d0",
   "metadata": {
    "ExecuteTime": {
     "end_time": "2023-03-18T22:31:59.988081Z",
     "start_time": "2023-03-18T22:31:58.424035Z"
    }
   },
   "outputs": [
    {
     "data": {
      "text/html": [
       "        <script type=\"text/javascript\">\n",
       "        window.PlotlyConfig = {MathJaxConfig: 'local'};\n",
       "        if (window.MathJax) {MathJax.Hub.Config({SVG: {font: \"STIX-Web\"}});}\n",
       "        if (typeof require !== 'undefined') {\n",
       "        require.undef(\"plotly\");\n",
       "        requirejs.config({\n",
       "            paths: {\n",
       "                'plotly': ['https://cdn.plot.ly/plotly-latest.min']\n",
       "            }\n",
       "        });\n",
       "        require(['plotly'], function(Plotly) {\n",
       "            window._Plotly = Plotly;\n",
       "        });\n",
       "        }\n",
       "        </script>\n",
       "        "
      ]
     },
     "metadata": {},
     "output_type": "display_data"
    },
    {
     "data": {
      "text/html": [
       "        <script type=\"text/javascript\">\n",
       "        window.PlotlyConfig = {MathJaxConfig: 'local'};\n",
       "        if (window.MathJax) {MathJax.Hub.Config({SVG: {font: \"STIX-Web\"}});}\n",
       "        if (typeof require !== 'undefined') {\n",
       "        require.undef(\"plotly\");\n",
       "        requirejs.config({\n",
       "            paths: {\n",
       "                'plotly': ['https://cdn.plot.ly/plotly-latest.min']\n",
       "            }\n",
       "        });\n",
       "        require(['plotly'], function(Plotly) {\n",
       "            window._Plotly = Plotly;\n",
       "        });\n",
       "        }\n",
       "        </script>\n",
       "        "
      ]
     },
     "metadata": {},
     "output_type": "display_data"
    }
   ],
   "source": [
    "# Data Manipulation\n",
    "import pandas as pd\n",
    "import numpy as np\n",
    "\n",
    "# Import BlackScholes\n",
    "from BS_class import BS\n",
    "\n",
    "# Plotting\n",
    "import cufflinks as cf\n",
    "cf.set_config_file(offline=True)\n",
    "\n",
    "# Ignore warnings\n",
    "import warnings\n",
    "warnings.filterwarnings('ignore')"
   ]
  },
  {
   "cell_type": "markdown",
   "id": "fc7fb6d4",
   "metadata": {},
   "source": [
    "# Newton Method"
   ]
  },
  {
   "cell_type": "code",
   "execution_count": 2,
   "id": "bf2e56ae",
   "metadata": {
    "ExecuteTime": {
     "end_time": "2023-03-18T22:31:59.996000Z",
     "start_time": "2023-03-18T22:31:59.989897Z"
    }
   },
   "outputs": [],
   "source": [
    "def newton_iv(className, spot, strike, dte, rate, volatility, dividends, callprice=None, putprice=None):\n",
    "    \n",
    "    x0 = 1\n",
    "    h = 0.001\n",
    "    tolerance = 1e-7\n",
    "    epsilon = 1e-14                             \n",
    "    \n",
    "    maxiter = 300\n",
    "    \n",
    "    if callprice:\n",
    "        f = lambda x: eval(className)(spot, strike, dte, rate, x, dividends).callPrice - callprice\n",
    "    if putprice:\n",
    "        f = lambda x: eval(className)(spot, strike, dte, rate, x, dividends).putPrice - putprice\n",
    "        \n",
    "    for i in range(maxiter):\n",
    "        y = f(x0)                               \n",
    "        yprime = (f(x0+h) - f(x0-h))/(2*h)      \n",
    "        \n",
    "        if abs(yprime)<epsilon:\n",
    "            break                               \n",
    "        x1 = x0 - y/yprime\n",
    "        \n",
    "        if (abs(x1-x0) <= tolerance*abs(x1)):\n",
    "            break\n",
    "            \n",
    "        x0=x1\n",
    "        \n",
    "    return x1"
   ]
  },
  {
   "cell_type": "markdown",
   "id": "2f8a9e52",
   "metadata": {},
   "source": [
    "# Bisection Method"
   ]
  },
  {
   "cell_type": "code",
   "execution_count": 3,
   "id": "7d0ea144",
   "metadata": {
    "ExecuteTime": {
     "end_time": "2023-03-18T22:32:00.006661Z",
     "start_time": "2023-03-18T22:32:00.000385Z"
    }
   },
   "outputs": [],
   "source": [
    "def bisection_iv(className, spot, strike, dte, rate, volatility, dividends, callprice=None, putprice=None):\n",
    "    \n",
    "    high=500.0\n",
    "    low=0.0\n",
    "    \n",
    "    # this is market price\n",
    "    if callprice:\n",
    "        price = callprice\n",
    "    if putprice and not callprice:\n",
    "        price = putprice\n",
    "        \n",
    "    tolerance = 1e-7\n",
    "        \n",
    "    for i in range(1000):\n",
    "        mid = (high + low) / 2              \n",
    "        if mid < tolerance:\n",
    "            mid = tolerance\n",
    "            \n",
    "        if callprice:\n",
    "            estimate = eval(className)(spot, strike, dte, rate, mid, dividends).callPrice \n",
    "        if putprice:\n",
    "            estimate = eval(className)(spot, strike, dte, rate, mid, dividends).putPrice\n",
    "        \n",
    "        if round(estimate,6) == price:\n",
    "            break\n",
    "        elif estimate > price: \n",
    "            high = mid                     \n",
    "        elif estimate < price: \n",
    "            low = mid                       \n",
    "    \n",
    "    return mid"
   ]
  },
  {
   "cell_type": "markdown",
   "id": "b219323e",
   "metadata": {},
   "source": [
    "# SPY Option"
   ]
  },
  {
   "cell_type": "code",
   "execution_count": 4,
   "id": "6373da24",
   "metadata": {
    "ExecuteTime": {
     "end_time": "2023-03-18T22:32:07.294059Z",
     "start_time": "2023-03-18T22:32:00.010331Z"
    }
   },
   "outputs": [],
   "source": [
    "opt_data = pd.read_csv('/Users/antoneyoung/Jupyter Notebook/OptionMetrics/Final_Data_2.csv')"
   ]
  },
  {
   "cell_type": "code",
   "execution_count": 5,
   "id": "6c958eba",
   "metadata": {
    "ExecuteTime": {
     "end_time": "2023-03-18T22:32:07.937117Z",
     "start_time": "2023-03-18T22:32:07.298167Z"
    }
   },
   "outputs": [],
   "source": [
    "opt_date = opt_data.set_index(['Date'])"
   ]
  },
  {
   "cell_type": "code",
   "execution_count": 6,
   "id": "15683ac0",
   "metadata": {
    "ExecuteTime": {
     "end_time": "2023-03-18T22:32:08.246547Z",
     "start_time": "2023-03-18T22:32:07.939802Z"
    }
   },
   "outputs": [],
   "source": [
    "ivfunction_test = opt_date.loc['2021-12-31'].query('Maturity == 364')[:6]"
   ]
  },
  {
   "cell_type": "code",
   "execution_count": 7,
   "id": "e2d786e3",
   "metadata": {
    "ExecuteTime": {
     "end_time": "2023-03-18T22:32:08.274091Z",
     "start_time": "2023-03-18T22:32:08.247977Z"
    }
   },
   "outputs": [
    {
     "data": {
      "text/html": [
       "<div>\n",
       "<style scoped>\n",
       "    .dataframe tbody tr th:only-of-type {\n",
       "        vertical-align: middle;\n",
       "    }\n",
       "\n",
       "    .dataframe tbody tr th {\n",
       "        vertical-align: top;\n",
       "    }\n",
       "\n",
       "    .dataframe thead th {\n",
       "        text-align: right;\n",
       "    }\n",
       "</style>\n",
       "<table border=\"1\" class=\"dataframe\">\n",
       "  <thead>\n",
       "    <tr style=\"text-align: right;\">\n",
       "      <th></th>\n",
       "      <th>SpotPrice</th>\n",
       "      <th>Expiration</th>\n",
       "      <th>Maturity</th>\n",
       "      <th>ForwardPrice</th>\n",
       "      <th>Strike</th>\n",
       "      <th>Dividend</th>\n",
       "      <th>CallBid</th>\n",
       "      <th>CallOffer</th>\n",
       "      <th>CallMid</th>\n",
       "      <th>IV_Call</th>\n",
       "      <th>PutBid</th>\n",
       "      <th>PutOffer</th>\n",
       "      <th>PutMid</th>\n",
       "      <th>IV_Put</th>\n",
       "      <th>RiskFreeRate</th>\n",
       "    </tr>\n",
       "    <tr>\n",
       "      <th>Date</th>\n",
       "      <th></th>\n",
       "      <th></th>\n",
       "      <th></th>\n",
       "      <th></th>\n",
       "      <th></th>\n",
       "      <th></th>\n",
       "      <th></th>\n",
       "      <th></th>\n",
       "      <th></th>\n",
       "      <th></th>\n",
       "      <th></th>\n",
       "      <th></th>\n",
       "      <th></th>\n",
       "      <th></th>\n",
       "      <th></th>\n",
       "    </tr>\n",
       "  </thead>\n",
       "  <tbody>\n",
       "    <tr>\n",
       "      <th>2021-12-31</th>\n",
       "      <td>4766.18</td>\n",
       "      <td>2022-12-30</td>\n",
       "      <td>364</td>\n",
       "      <td>4739.960187</td>\n",
       "      <td>1600</td>\n",
       "      <td>0.012432</td>\n",
       "      <td>3122.9</td>\n",
       "      <td>3146.9</td>\n",
       "      <td>3134.9</td>\n",
       "      <td>0.570805</td>\n",
       "      <td>1.0</td>\n",
       "      <td>20.2</td>\n",
       "      <td>10.6</td>\n",
       "      <td>-99.990000</td>\n",
       "      <td>0.006901</td>\n",
       "    </tr>\n",
       "    <tr>\n",
       "      <th>2021-12-31</th>\n",
       "      <td>4766.18</td>\n",
       "      <td>2022-12-30</td>\n",
       "      <td>364</td>\n",
       "      <td>4739.960187</td>\n",
       "      <td>1700</td>\n",
       "      <td>0.012432</td>\n",
       "      <td>3025.3</td>\n",
       "      <td>3049.3</td>\n",
       "      <td>3037.3</td>\n",
       "      <td>0.550412</td>\n",
       "      <td>2.7</td>\n",
       "      <td>21.9</td>\n",
       "      <td>12.3</td>\n",
       "      <td>0.515698</td>\n",
       "      <td>0.006901</td>\n",
       "    </tr>\n",
       "    <tr>\n",
       "      <th>2021-12-31</th>\n",
       "      <td>4766.18</td>\n",
       "      <td>2022-12-30</td>\n",
       "      <td>364</td>\n",
       "      <td>4739.960187</td>\n",
       "      <td>1800</td>\n",
       "      <td>0.012432</td>\n",
       "      <td>2927.8</td>\n",
       "      <td>2951.8</td>\n",
       "      <td>2939.8</td>\n",
       "      <td>0.530916</td>\n",
       "      <td>4.5</td>\n",
       "      <td>23.7</td>\n",
       "      <td>14.1</td>\n",
       "      <td>0.499953</td>\n",
       "      <td>0.006901</td>\n",
       "    </tr>\n",
       "    <tr>\n",
       "      <th>2021-12-31</th>\n",
       "      <td>4766.18</td>\n",
       "      <td>2022-12-30</td>\n",
       "      <td>364</td>\n",
       "      <td>4739.960187</td>\n",
       "      <td>1900</td>\n",
       "      <td>0.012432</td>\n",
       "      <td>2830.5</td>\n",
       "      <td>2854.5</td>\n",
       "      <td>2842.5</td>\n",
       "      <td>0.512622</td>\n",
       "      <td>5.0</td>\n",
       "      <td>31.0</td>\n",
       "      <td>18.0</td>\n",
       "      <td>0.494393</td>\n",
       "      <td>0.006901</td>\n",
       "    </tr>\n",
       "    <tr>\n",
       "      <th>2021-12-31</th>\n",
       "      <td>4766.18</td>\n",
       "      <td>2022-12-30</td>\n",
       "      <td>364</td>\n",
       "      <td>4739.960187</td>\n",
       "      <td>2000</td>\n",
       "      <td>0.012432</td>\n",
       "      <td>2733.4</td>\n",
       "      <td>2757.4</td>\n",
       "      <td>2745.4</td>\n",
       "      <td>0.495308</td>\n",
       "      <td>5.0</td>\n",
       "      <td>33.0</td>\n",
       "      <td>19.0</td>\n",
       "      <td>0.473615</td>\n",
       "      <td>0.006901</td>\n",
       "    </tr>\n",
       "    <tr>\n",
       "      <th>2021-12-31</th>\n",
       "      <td>4766.18</td>\n",
       "      <td>2022-12-30</td>\n",
       "      <td>364</td>\n",
       "      <td>4739.960187</td>\n",
       "      <td>2100</td>\n",
       "      <td>0.012432</td>\n",
       "      <td>2636.5</td>\n",
       "      <td>2660.5</td>\n",
       "      <td>2648.5</td>\n",
       "      <td>0.478793</td>\n",
       "      <td>5.5</td>\n",
       "      <td>35.5</td>\n",
       "      <td>20.5</td>\n",
       "      <td>0.455611</td>\n",
       "      <td>0.006901</td>\n",
       "    </tr>\n",
       "  </tbody>\n",
       "</table>\n",
       "</div>"
      ],
      "text/plain": [
       "            SpotPrice  Expiration  Maturity  ForwardPrice  Strike  Dividend  \\\n",
       "Date                                                                          \n",
       "2021-12-31    4766.18  2022-12-30       364   4739.960187    1600  0.012432   \n",
       "2021-12-31    4766.18  2022-12-30       364   4739.960187    1700  0.012432   \n",
       "2021-12-31    4766.18  2022-12-30       364   4739.960187    1800  0.012432   \n",
       "2021-12-31    4766.18  2022-12-30       364   4739.960187    1900  0.012432   \n",
       "2021-12-31    4766.18  2022-12-30       364   4739.960187    2000  0.012432   \n",
       "2021-12-31    4766.18  2022-12-30       364   4739.960187    2100  0.012432   \n",
       "\n",
       "            CallBid  CallOffer  CallMid   IV_Call  PutBid  PutOffer  PutMid  \\\n",
       "Date                                                                          \n",
       "2021-12-31   3122.9     3146.9   3134.9  0.570805     1.0      20.2    10.6   \n",
       "2021-12-31   3025.3     3049.3   3037.3  0.550412     2.7      21.9    12.3   \n",
       "2021-12-31   2927.8     2951.8   2939.8  0.530916     4.5      23.7    14.1   \n",
       "2021-12-31   2830.5     2854.5   2842.5  0.512622     5.0      31.0    18.0   \n",
       "2021-12-31   2733.4     2757.4   2745.4  0.495308     5.0      33.0    19.0   \n",
       "2021-12-31   2636.5     2660.5   2648.5  0.478793     5.5      35.5    20.5   \n",
       "\n",
       "               IV_Put  RiskFreeRate  \n",
       "Date                                 \n",
       "2021-12-31 -99.990000      0.006901  \n",
       "2021-12-31   0.515698      0.006901  \n",
       "2021-12-31   0.499953      0.006901  \n",
       "2021-12-31   0.494393      0.006901  \n",
       "2021-12-31   0.473615      0.006901  \n",
       "2021-12-31   0.455611      0.006901  "
      ]
     },
     "execution_count": 7,
     "metadata": {},
     "output_type": "execute_result"
    }
   ],
   "source": [
    "ivfunction_test"
   ]
  },
  {
   "cell_type": "code",
   "execution_count": 8,
   "id": "631bc633",
   "metadata": {
    "ExecuteTime": {
     "end_time": "2023-03-18T22:32:08.382137Z",
     "start_time": "2023-03-18T22:32:08.281126Z"
    }
   },
   "outputs": [],
   "source": [
    "i = 0\n",
    "S0 = ivfunction_test.SpotPrice.iloc[i]\n",
    "K = ivfunction_test.Strike.iloc[i]\n",
    "T = ivfunction_test.Maturity.iloc[i]/365\n",
    "r = ivfunction_test.RiskFreeRate.iloc[i]\n",
    "q = ivfunction_test.Dividend.iloc[i]\n",
    "callprice = ivfunction_test.CallMid.iloc[i]\n",
    "impvol_newton = newton_iv('BS', S0, K, T, r, 0.2, q, callprice)\n",
    "impvol_bisection = bisection_iv('BS', S0, K, T, r, 0.2, q, callprice)"
   ]
  },
  {
   "cell_type": "code",
   "execution_count": 9,
   "id": "00527692",
   "metadata": {
    "ExecuteTime": {
     "end_time": "2023-03-18T22:32:08.391252Z",
     "start_time": "2023-03-18T22:32:08.386398Z"
    }
   },
   "outputs": [
    {
     "name": "stdout",
     "output_type": "stream",
     "text": [
      "====================================\n",
      "Newton Method   : 0.5709375328687041\n",
      "====================================\n",
      "Bisection Method: 0.5709375327569433\n",
      "====================================\n"
     ]
    }
   ],
   "source": [
    "print('====================================')\n",
    "print('Newton Method   :', impvol_newton)\n",
    "print('====================================')\n",
    "print('Bisection Method:', impvol_bisection)\n",
    "print('====================================')"
   ]
  },
  {
   "cell_type": "markdown",
   "id": "300cfd7a",
   "metadata": {},
   "source": [
    "Reference:\n",
    "\n",
    "The Model 3 Python Lab notes in CQF"
   ]
  }
 ],
 "metadata": {
  "kernelspec": {
   "display_name": "Python 3",
   "language": "python",
   "name": "python3"
  },
  "language_info": {
   "codemirror_mode": {
    "name": "ipython",
    "version": 3
   },
   "file_extension": ".py",
   "mimetype": "text/x-python",
   "name": "python",
   "nbconvert_exporter": "python",
   "pygments_lexer": "ipython3",
   "version": "3.8.8"
  },
  "toc": {
   "base_numbering": 1,
   "nav_menu": {},
   "number_sections": true,
   "sideBar": true,
   "skip_h1_title": false,
   "title_cell": "Table of Contents",
   "title_sidebar": "Contents",
   "toc_cell": true,
   "toc_position": {},
   "toc_section_display": true,
   "toc_window_display": false
  },
  "varInspector": {
   "cols": {
    "lenName": 16,
    "lenType": 16,
    "lenVar": 40
   },
   "kernels_config": {
    "python": {
     "delete_cmd_postfix": "",
     "delete_cmd_prefix": "del ",
     "library": "var_list.py",
     "varRefreshCmd": "print(var_dic_list())"
    },
    "r": {
     "delete_cmd_postfix": ") ",
     "delete_cmd_prefix": "rm(",
     "library": "var_list.r",
     "varRefreshCmd": "cat(var_dic_list()) "
    }
   },
   "types_to_exclude": [
    "module",
    "function",
    "builtin_function_or_method",
    "instance",
    "_Feature"
   ],
   "window_display": true
  }
 },
 "nbformat": 4,
 "nbformat_minor": 5
}
